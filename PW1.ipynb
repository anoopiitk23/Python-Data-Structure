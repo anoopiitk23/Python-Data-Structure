{
  "nbformat": 4,
  "nbformat_minor": 0,
  "metadata": {
    "colab": {
      "provenance": []
    },
    "kernelspec": {
      "name": "python3",
      "display_name": "Python 3"
    },
    "language_info": {
      "name": "python"
    }
  },
  "cells": [
    {
      "cell_type": "markdown",
      "source": [
        "#Q1. How do you comment code in Python? What are the different types of comments?\n",
        "Answer:\n",
        "In Python, we can add comments to your code using the # symbol for single-line comments and triple quotes (''' or \"\"\") for multi-line comments."
      ],
      "metadata": {
        "id": "C_UZp8JenROC"
      }
    },
    {
      "cell_type": "markdown",
      "source": [
        "Single-line comments:"
      ],
      "metadata": {
        "id": "-gla8g-inh3H"
      }
    },
    {
      "cell_type": "code",
      "execution_count": 1,
      "metadata": {
        "colab": {
          "base_uri": "https://localhost:8080/"
        },
        "id": "zJVMPcbfnJWi",
        "outputId": "b1b1dc32-b6f1-4706-d6c7-433f0c5b94bd"
      },
      "outputs": [
        {
          "output_type": "stream",
          "name": "stdout",
          "text": [
            "Hello, World!\n"
          ]
        }
      ],
      "source": [
        "# This is a single-line comment\n",
        "print(\"Hello, World!\")  # This is an inline comment\n"
      ]
    },
    {
      "cell_type": "markdown",
      "source": [
        "Multi-line comments:"
      ],
      "metadata": {
        "id": "ec3-k3IBnk5l"
      }
    },
    {
      "cell_type": "code",
      "source": [
        "\"\"\"\n",
        "This is a multi-line comment.\n",
        "It can span multiple lines.\n",
        "\"\"\"\n",
        "print(\"Hello, World!\")\n"
      ],
      "metadata": {
        "colab": {
          "base_uri": "https://localhost:8080/"
        },
        "id": "xV7LucKEnkhI",
        "outputId": "b715049f-9997-42e6-b3a9-25f2c061c38b"
      },
      "execution_count": 2,
      "outputs": [
        {
          "output_type": "stream",
          "name": "stdout",
          "text": [
            "Hello, World!\n"
          ]
        }
      ]
    },
    {
      "cell_type": "markdown",
      "source": [
        "#Q2. What are variables in Python? How do you declare and assign values to variables?\n",
        "Answer:\n",
        "Variables in Python are used to store data that can be referenced and manipulated in a program. You declare a variable by simply assigning a value to it using the = operator."
      ],
      "metadata": {
        "id": "cJeXNu7JnxGI"
      }
    },
    {
      "cell_type": "markdown",
      "source": [
        "Declaration and assignment"
      ],
      "metadata": {
        "id": "cPXZlkEPn0eP"
      }
    },
    {
      "cell_type": "code",
      "source": [
        "x = 5\n",
        "name = \"Alice\"\n",
        "is_student = True\n"
      ],
      "metadata": {
        "id": "Hyv8WtOEnvs1"
      },
      "execution_count": 10,
      "outputs": []
    },
    {
      "cell_type": "markdown",
      "source": [
        "#Q3. How do you convert one data type to another in Python?\n",
        "Answer:\n",
        "You can convert one data type to another using built-in functions like int(), float(), str(), and bool()."
      ],
      "metadata": {
        "id": "4SohWkfmoBxB"
      }
    },
    {
      "cell_type": "markdown",
      "source": [
        "#Q4. How do you write and execute a Python script from the command line?\n",
        "Answer:\n",
        "1)Write the script:\n",
        "Create a Python file (e.g., script.py) with your code\n",
        "\n",
        "2)Execute the script:\n",
        "Open your command line interface and navigate to the directory containing the script. Then run."
      ],
      "metadata": {
        "id": "yAPwYzlYoMXx"
      }
    },
    {
      "cell_type": "markdown",
      "source": [
        "#Q5. Given a list my_list = [1, 2, 3, 4, 5], write the code to slice the list and obtain the sub-list [2, 3]"
      ],
      "metadata": {
        "id": "yP_dkonkoOA5"
      }
    },
    {
      "cell_type": "code",
      "source": [
        "my_list = [1, 2, 3, 4, 5]\n",
        "sub_list = my_list[1:3]\n",
        "print(sub_list)  # Output: [2, 3]\n"
      ],
      "metadata": {
        "colab": {
          "base_uri": "https://localhost:8080/"
        },
        "id": "fPRAdfpNoDtt",
        "outputId": "fb0faa7f-dc9a-470e-8061-2cbb9c878f1c"
      },
      "execution_count": 4,
      "outputs": [
        {
          "output_type": "stream",
          "name": "stdout",
          "text": [
            "[2, 3]\n"
          ]
        }
      ]
    },
    {
      "cell_type": "markdown",
      "source": [
        "#Q6. What is a complex number in mathematics, and how is it represented in Python?\n",
        "Answer:\n",
        "A complex number in mathematics has a real part and an imaginary part. It is represented as\n",
        "a+bj, where\n",
        "a is the real part and\n",
        "b is the imaginary part.\n",
        "\n"
      ],
      "metadata": {
        "id": "5Q1Oq78xoxw5"
      }
    },
    {
      "cell_type": "code",
      "source": [
        "complex_number = 3 + 4j\n",
        "print(complex_number.real)  # Output: 3.0\n",
        "print(complex_number.imag)  # Output: 4.0\n"
      ],
      "metadata": {
        "colab": {
          "base_uri": "https://localhost:8080/"
        },
        "id": "m4yFOObzoxcn",
        "outputId": "f426cbbf-7f1d-4cb7-f6f7-bf702a91b475"
      },
      "execution_count": 5,
      "outputs": [
        {
          "output_type": "stream",
          "name": "stdout",
          "text": [
            "3.0\n",
            "4.0\n"
          ]
        }
      ]
    },
    {
      "cell_type": "markdown",
      "source": [
        "#Q7. What is the correct way to declare a variable named age and assign the value 25 to it?\n",
        "Answer:"
      ],
      "metadata": {
        "id": "-oTywYJ4pGbe"
      }
    },
    {
      "cell_type": "code",
      "source": [
        "age = 25\n"
      ],
      "metadata": {
        "id": "bdxcRzhNpGHb"
      },
      "execution_count": 11,
      "outputs": []
    },
    {
      "cell_type": "markdown",
      "source": [
        "#Q8. Declare a variable named price and assign the value 9.99 to it. What data type does this variable belong to?\n",
        "Answer:"
      ],
      "metadata": {
        "id": "aSXZHv5spMzr"
      }
    },
    {
      "cell_type": "code",
      "source": [
        "price = 9.99\n",
        "print(type(price))  # Output: <class 'float'>\n"
      ],
      "metadata": {
        "colab": {
          "base_uri": "https://localhost:8080/"
        },
        "id": "ij_BQugLpNpk",
        "outputId": "e2bde790-3443-4d9b-cc46-2c75253cef1e"
      },
      "execution_count": 6,
      "outputs": [
        {
          "output_type": "stream",
          "name": "stdout",
          "text": [
            "<class 'float'>\n"
          ]
        }
      ]
    },
    {
      "cell_type": "markdown",
      "source": [
        "#Q9. Create a variable named name and assign your full name to it as a string. How would you print the value of this variable?\n",
        "Answer:"
      ],
      "metadata": {
        "id": "ZYZctY9IpXM0"
      }
    },
    {
      "cell_type": "code",
      "source": [
        "name = \"Himanshu Yadav\"\n",
        "print(name)  # Output: Himanshu Yadav\n"
      ],
      "metadata": {
        "colab": {
          "base_uri": "https://localhost:8080/"
        },
        "id": "xO07ESCIpafZ",
        "outputId": "a811c06b-98c3-4624-bec1-b0d640d18714"
      },
      "execution_count": 7,
      "outputs": [
        {
          "output_type": "stream",
          "name": "stdout",
          "text": [
            "Himanshu Yadav\n"
          ]
        }
      ]
    },
    {
      "cell_type": "markdown",
      "source": [
        "#Q10. Given the string \"Hello, World!\", extract the substring \"World\".\n",
        "Answer:"
      ],
      "metadata": {
        "id": "gjXw3BKZpdDK"
      }
    },
    {
      "cell_type": "code",
      "source": [
        "greeting = \"Hello, World!\"\n",
        "substring = greeting[7:12]\n",
        "print(substring)  # Output: World\n"
      ],
      "metadata": {
        "colab": {
          "base_uri": "https://localhost:8080/"
        },
        "id": "zx-y7HT2piBD",
        "outputId": "dda84074-bc1f-471c-d11b-f134a8367141"
      },
      "execution_count": 8,
      "outputs": [
        {
          "output_type": "stream",
          "name": "stdout",
          "text": [
            "World\n"
          ]
        }
      ]
    },
    {
      "cell_type": "markdown",
      "source": [
        "#Q11. Create a variable named \"is_student\" and assign it a boolean value indicating whether you are currently a student or not.\n",
        "Answer:"
      ],
      "metadata": {
        "id": "HlAP3Gvcpm0C"
      }
    },
    {
      "cell_type": "code",
      "source": [
        "is_student = True  # Assuming you are currently a student\n",
        "print(is_student)  # Output: True\n"
      ],
      "metadata": {
        "colab": {
          "base_uri": "https://localhost:8080/"
        },
        "id": "CvQ-mQ4Dpma1",
        "outputId": "73f92082-522c-4f4a-d554-1bc0b9a96791"
      },
      "execution_count": 9,
      "outputs": [
        {
          "output_type": "stream",
          "name": "stdout",
          "text": [
            "True\n"
          ]
        }
      ]
    }
  ]
}